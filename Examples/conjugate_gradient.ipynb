{
 "cells": [
  {
   "cell_type": "code",
   "execution_count": 11,
   "metadata": {
    "collapsed": true,
    "jupyter": {
     "outputs_hidden": true
    }
   },
   "outputs": [],
   "source": [
    "import jax.numpy as np\n",
    "import numpy as onp\n",
    "from scipy.sparse import diags\n",
    "from scipy.sparse.linalg import cg\n",
    "import inspect\n",
    "from jax.scipy.sparse.linalg import cg as jcg\n",
    "import matplotlib.pyplot as plt"
   ]
  },
  {
   "cell_type": "code",
   "execution_count": 2,
   "metadata": {
    "collapsed": false,
    "jupyter": {
     "outputs_hidden": false
    },
    "pycharm": {
     "name": "#%%\n"
    }
   },
   "outputs": [],
   "source": [
    "m = 1000\n",
    "d_0 = 0.5 + onp.sqrt(onp.arange(m)+1)\n",
    "d_1 = onp.ones((m-1))\n",
    "d_2 = onp.ones((m-100))\n",
    "\n",
    "diagonals = [d_2,d_1,d_0,d_1,d_2]\n",
    "d_sparse = diags(diagonals,[-100,-1,0,1,100])\n",
    "m_sparse = diags([d_0],[0])\n",
    "b = onp.ones(m)\n",
    "trial_max_iteration = 40\n",
    "errors = onp.zeros(trial_max_iteration)\n",
    "errors_conditioned = onp.zeros(trial_max_iteration)"
   ]
  },
  {
   "cell_type": "code",
   "execution_count": 3,
   "metadata": {
    "collapsed": false,
    "jupyter": {
     "outputs_hidden": false
    },
    "pycharm": {
     "name": "#%%\n"
    }
   },
   "outputs": [],
   "source": [
    "def report(xk):\n",
    "    frame = inspect.currentframe().f_back\n",
    "    print(frame.f_locals['resid'])"
   ]
  },
  {
   "cell_type": "code",
   "execution_count": 4,
   "metadata": {
    "collapsed": false,
    "jupyter": {
     "outputs_hidden": false
    },
    "pycharm": {
     "name": "#%%\n"
    }
   },
   "outputs": [],
   "source": [
    "for i in range(trial_max_iteration):\n",
    "    x,info = cg(d_sparse,b,maxiter=(i+1),tol=1e-16)\n",
    "    errors[i] = onp.linalg.norm(d_sparse@x-b)**2"
   ]
  },
  {
   "cell_type": "code",
   "execution_count": 5,
   "metadata": {
    "collapsed": false,
    "jupyter": {
     "outputs_hidden": false
    },
    "pycharm": {
     "name": "#%%\n"
    }
   },
   "outputs": [],
   "source": [
    "for i in range(trial_max_iteration):\n",
    "    x,info = cg(d_sparse,b,maxiter=(i+1),M=m_sparse,tol=1e-16)\n",
    "    errors_conditioned[i] = onp.linalg.norm(d_sparse@x-b)**2"
   ]
  },
  {
   "cell_type": "code",
   "execution_count": 6,
   "metadata": {
    "collapsed": false,
    "jupyter": {
     "outputs_hidden": false
    },
    "pycharm": {
     "name": "#%%\n"
    }
   },
   "outputs": [
    {
     "data": {
      "text/plain": [
       "<matplotlib.legend.Legend at 0x7f7d8ad8da10>"
      ]
     },
     "execution_count": 6,
     "metadata": {},
     "output_type": "execute_result"
    },
    {
     "data": {
      "image/png": "[encoded data removed]",
      "text/plain": [
       "<Figure size 432x288 with 1 Axes>"
      ]
     },
     "metadata": {
      "needs_background": "light"
     },
     "output_type": "display_data"
    }
   ],
   "source": [
    "plt.semilogy(errors, linewidth=0.5, label='not-conditioned')\n",
    "plt.semilogy(errors_conditioned, linewidth=0.5, label='conditioned')\n",
    "plt.legend()"
   ]
  },
  {
   "cell_type": "code",
   "execution_count": 19,
   "metadata": {
    "collapsed": false,
    "jupyter": {
     "outputs_hidden": false
    },
    "pycharm": {
     "name": "#%%\n"
    }
   },
   "outputs": [],
   "source": [
    "d_jax = np.array(d_sparse.toarray(),dtype=np.float32)\n",
    "d_fun = lambda x: d_jax@x\n",
    "b_jax = np.array(b,dtype=np.float32)\n",
    "m_jax = np.array(m_sparse.toarray(),dtype=np.float32)\n",
    "m_fun = lambda x: m_jax@x\n",
    "jerrors = onp.zeros(trial_max_iteration)\n",
    "jerrors_conditioned = onp.zeros(trial_max_iteration)"
   ]
  },
  {
   "cell_type": "code",
   "execution_count": 24,
   "metadata": {
    "collapsed": false,
    "jupyter": {
     "outputs_hidden": false
    },
    "pycharm": {
     "name": "#%%\n"
    }
   },
   "outputs": [],
   "source": [
    "for i in range(trial_max_iteration):\n",
    "    x_jax,info = jcg(d_fun,b_jax,maxiter=(i+1),tol=1e-16)\n",
    "    jerrors[i] = np.linalg.norm(d_sparse@x_jax-b)**2"
   ]
  },
  {
   "cell_type": "code",
   "execution_count": 25,
   "metadata": {
    "collapsed": false,
    "jupyter": {
     "outputs_hidden": false
    },
    "pycharm": {
     "name": "#%%\n"
    }
   },
   "outputs": [],
   "source": [
    "for i in range(trial_max_iteration):\n",
    "    x_jax_cond,info = jcg(d_fun,b_jax,maxiter=(i+1),M=m_fun,tol=1e-16)\n",
    "    jerrors_conditioned[i] = np.linalg.norm(d_sparse@x_jax_cond-b)**2"
   ]
  },
  {
   "cell_type": "code",
   "execution_count": 27,
   "metadata": {
    "collapsed": false,
    "jupyter": {
     "outputs_hidden": false
    },
    "pycharm": {
     "name": "#%%\n"
    }
   },
   "outputs": [
    {
     "data": {
      "text/plain": [
       "<matplotlib.legend.Legend at 0x7f7e0cd9f550>"
      ]
     },
     "execution_count": 27,
     "metadata": {},
     "output_type": "execute_result"
    },
    {
     "data": {
      "image/png": "[encoded data removed]",
      "text/plain": [
       "<Figure size 432x288 with 1 Axes>"
      ]
     },
     "metadata": {
      "needs_background": "light"
     },
     "output_type": "display_data"
    }
   ],
   "source": [
    "plt.semilogy(jerrors, linewidth=0.5, label='jax-not-conditioned')\n",
    "plt.semilogy(jerrors_conditioned, linewidth=0.5, label='jax-conditioned')\n",
    "plt.semilogy(errors, linewidth=0.5, label='not-conditioned')\n",
    "plt.semilogy(errors_conditioned, linewidth=0.5, label='conditioned')\n",
    "plt.legend()"
   ]
  },
  {
   "cell_type": "code",
   "execution_count": 23,
   "metadata": {
    "collapsed": false,
    "jupyter": {
     "outputs_hidden": false
    },
    "pycharm": {
     "name": "#%%\n"
    }
   },
   "outputs": [
    {
     "data": {
      "text/plain": [
       "array([0., 0., 0., 0., 0., 0., 0., 0., 0., 0., 0., 0., 0., 0., 0., 0., 0.,\n",
       "       0., 0., 0., 0., 0., 0., 0., 0., 0., 0., 0., 0., 0., 0., 0., 0., 0.,\n",
       "       0., 0., 0., 0., 0., 0.])"
      ]
     },
     "execution_count": 23,
     "metadata": {},
     "output_type": "execute_result"
    }
   ],
   "source": [
    "jerrors\n"
   ]
  },
  {
   "cell_type": "code",
   "execution_count": null,
   "metadata": {
    "collapsed": false,
    "jupyter": {
     "outputs_hidden": false
    },
    "pycharm": {
     "name": "#%%\n"
    }
   },
   "outputs": [],
   "source": []
  }
 ],
 "metadata": {
  "kernelspec": {
   "display_name": "Python 3",
   "language": "python",
   "name": "python3"
  },
  "language_info": {
   "codemirror_mode": {
    "name": "ipython",
    "version": 3
   },
   "file_extension": ".py",
   "mimetype": "text/x-python",
   "name": "python",
   "nbconvert_exporter": "python",
   "pygments_lexer": "ipython3",
   "version": "3.7.7"
  }
 },
 "nbformat": 4,
 "nbformat_minor": 4
}
