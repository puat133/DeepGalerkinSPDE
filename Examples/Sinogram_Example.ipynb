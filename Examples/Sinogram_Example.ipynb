{
 "cells": [
  {
   "cell_type": "code",
   "execution_count": 1,
   "metadata": {},
   "outputs": [
    {
     "name": "stdout",
     "output_type": "stream",
     "text": [
      "/JaxDeepSPDE\n"
     ]
    }
   ],
   "source": [
    "%cd .."
   ]
  },
  {
   "cell_type": "code",
   "execution_count": 2,
   "metadata": {},
   "outputs": [],
   "source": [
    "import os\n",
    "import sys\n",
    "import inspect\n",
    "import importlib\n",
    "from datetime import datetime\n",
    "from functools import partial\n",
    "import matplotlib.pyplot as plt\n",
    "from skimage.transform import radon, iradon\n",
    "import jax\n",
    "import jax.numpy as np\n",
    "import numpy as onp\n",
    "import jax.experimental.optimizers as jopt\n",
    "import jax.random as jrandom\n",
    "from jax import jit, value_and_grad\n",
    "from tqdm import trange"
   ]
  },
  {
   "cell_type": "code",
   "execution_count": 3,
   "metadata": {},
   "outputs": [],
   "source": [
    "from utils import metric, symmetrize\n",
    "from utils import add_boolean_argument, set_plot\n",
    "from utils.hdf_io import save_to_hdf\n",
    "from DeepSPDE import Fourier, RandomGenerator, LMatrixGenerator\n",
    "from Optimizers import hessian_free, adahessian, value_grad_and_hessian\n",
    "from post_processing import process_nwd_results\n",
    "from utils.loss_function_and_support import from_complex_w_halfs_to_ravelled_reals, from_two_reals_ravelled_to_complex, \\\n",
    "    non_analytical_mean_and_std, loss, output_fun\n",
    "from Measurements import Sinogram\n",
    "from Phantom import contrast_shepp_logan_ellipses,original_shepp_logan_ellipses,\\\n",
    "    single_ellipse, multi_ellipses_fun, scale_ellipses\n",
    "from Optimizers import OptimizerType\n",
    "os.environ[\"XLA_FLAGS\"] = \"--xla_gpu_cuda_data_dir=/usr/local/cuda\""
   ]
  },
  {
   "cell_type": "code",
   "execution_count": 4,
   "metadata": {},
   "outputs": [],
   "source": [
    "fig_size, lw, marker_size = set_plot(use_latex=True)"
   ]
  },
  {
   "cell_type": "code",
   "execution_count": 5,
   "metadata": {},
   "outputs": [],
   "source": [
    "optimizer = OptimizerType.ADA_HESSIAN\n",
    "fourier_basis_number = 16\n",
    "fourier_target_number = 64\n",
    "n_theta = 45\n",
    "n_p_prime = 2*fourier_target_number-1\n",
    "measurement_samples_number = 1\n",
    "measurement_variance = 0.09\n",
    "n_prior_layers = 1\n",
    "n_sigmas = n_prior_layers+1\n",
    "use_randomized_initialization = False\n",
    "learn_sigmas = True\n",
    "momentum = 0.1\n",
    "random_seed = 0\n",
    "random_loop_length = 1000\n",
    "required_max_loss_val = 100000\n",
    "cg_max_iter = 100\n",
    "n_samples = 100\n",
    "kappa0 = 1e0\n",
    "n_steps = 10000\n",
    "use_soft_max = False\n",
    "use_gnm = False\n",
    "step_scale = 1e-1\n",
    "if n_prior_layers>1:\n",
    "    step_scale = 1e-3\n",
    "    momentum = 0.1\n",
    "    kappa0 = 1e1\n",
    "if optimizer == OptimizerType.HESSIAN_FREE:\n",
    "    kappa0 = 1e0#1e0\n",
    "    n_steps=100\n",
    "    step_scale = 1e0\n",
    "    use_soft_max = False\n",
    "elif optimizer == OptimizerType.ADA_HESSIAN:\n",
    "    step_scale = 1e-1\n",
    "    adahessian_b1 = 0.9\n",
    "    adahessian_b2 = 0.999\n",
    "elif optimizer == OptimizerType.ADAM:\n",
    "    kappa = 1e0\n",
    "    step_scale = 1e-1\n",
    "    adam_b1 = 0.1\n",
    "    adam_b2 = 0.1"
   ]
  },
  {
   "cell_type": "code",
   "execution_count": 6,
   "metadata": {},
   "outputs": [],
   "source": [
    "f = Fourier(fourier_basis_number, fourier_target_number, 2)\n",
    "if use_soft_max:\n",
    "    kappa_fun = lambda x: np.log(np.exp(x) + 1)\n",
    "    l_matrix = LMatrixGenerator(f, kappa0=kappa0, kappa_fun=kappa_fun)\n",
    "else:\n",
    "    l_matrix = LMatrixGenerator(f, kappa0=kappa0)"
   ]
  },
  {
   "cell_type": "code",
   "execution_count": 7,
   "metadata": {},
   "outputs": [
    {
     "name": "stderr",
     "output_type": "stream",
     "text": [
      "JaxDeepSPDE/Phantom/ellipse.py:178: RuntimeWarning: invalid value encountered in sqrt\n",
      "  distance = 2 * a * onp.sqrt(factor_1) / factor_2\n"
     ]
    }
   ],
   "source": [
    "scale = n_p_prime\n",
    "std_dev = np.sqrt(measurement_variance)\n",
    "thetas = onp.linspace(0, 1, n_theta, endpoint=False) * onp.pi\n",
    "sino = Sinogram(contrast_shepp_logan_ellipses,f,thetas,n_p_prime,std_dev=std_dev)\n",
    "y_ = sino.measure().ravel()"
   ]
  },
  {
   "cell_type": "code",
   "execution_count": 8,
   "metadata": {
    "pycharm": {
     "name": "#%%\n"
    }
   },
   "outputs": [],
   "source": [
    "# plt.figure(figsize=fig_size)\n",
    "# plt.imshow(sino.ground_truth,origin=\"lower\",cmap=plt.cm.gray)"
   ]
  },
  {
   "cell_type": "markdown",
   "metadata": {
    "pycharm": {
     "name": "#%% md\n"
    }
   },
   "source": [
    "Seeing the original phantom"
   ]
  },
  {
   "cell_type": "code",
   "execution_count": 9,
   "metadata": {
    "pycharm": {
     "name": "#%%\n"
    }
   },
   "outputs": [],
   "source": [
    "# t_points = np.linspace(-0.5,0.5,n_p_prime) # this is the default settings\n",
    "# x_points,y_points = np.meshgrid(t_points,t_points)\n",
    "# phantom_shepp_logan = multi_ellipses_fun(x_points,y_points,contrast_shepp_logan_ellipses)\n",
    "# plt.figure(figsize=fig_size)\n",
    "# plt.imshow(phantom_shepp_logan,origin=\"lower\",cmap=plt.cm.gray)"
   ]
  },
  {
   "cell_type": "markdown",
   "metadata": {
    "pycharm": {
     "name": "#%% md\n"
    }
   },
   "source": [
    "The sinogram obtained via radon function from skimage\n",
    "\n",
    "The sinogram from skimage:"
   ]
  },
  {
   "cell_type": "code",
   "execution_count": 10,
   "metadata": {},
   "outputs": [],
   "source": [
    "# sino_skimage = radon(phantom_shepp_logan,theta=thetas*180/onp.pi)\n",
    "# fig = plt.figure(figsize=fig_size)\n",
    "# im = plt.imshow(sino_skimage,origin=\"lower\",cmap=plt.cm.gray)\n",
    "# fig.colorbar(im)"
   ]
  },
  {
   "cell_type": "code",
   "execution_count": 11,
   "metadata": {},
   "outputs": [],
   "source": [
    "# fig = plt.figure(figsize=fig_size)\n",
    "# im = plt.imshow(sino.ground_truth-sino_skimage/scale,origin=\"lower\",vmin=-.08, vmax=0.08, cmap=plt.cm.seismic_r)\n",
    "# fig.colorbar(im)"
   ]
  },
  {
   "cell_type": "code",
   "execution_count": 12,
   "metadata": {},
   "outputs": [
    {
     "name": "stderr",
     "output_type": "stream",
     "text": [
      "JaxDeepSPDE/Phantom/sinogram_operator.py:30: RuntimeWarning: invalid value encountered in true_divide\n",
      "  factor = (np.sin(2 * np.pi * k_tilde_v * np.outer(el, one_i))) / (np.pi * k_tilde_v)\n"
     ]
    }
   ],
   "source": [
    "identity = np.eye(2 * f.basis_number - 1)\n",
    "meas_samples = sino.measure().ravel(sino.ravel_order)\n",
    "identity_m = np.eye(meas_samples.shape[0])\n",
    "normalized_meas_samples = np.asarray(meas_samples, dtype=np.float32) / sino.std_dev\n",
    "sino.measurement_matrix\n",
    "h_matrix = np.asarray(sino.measurement_matrix, dtype=np.complex64) / sino.std_dev\n",
    "h_conj_t = h_matrix.conj().T\n",
    "\n",
    "@partial(jit, static_argnums=(1,))\n",
    "def wrapped_loss(whalfs_real, whalfs_shape, sigmas_in, y):\n",
    "    w_halfs_in = from_two_reals_ravelled_to_complex(whalfs_real, whalfs_shape)\n",
    "    return loss(w_halfs_in, sigmas_in, y, h_conj_t, identity_m, l_matrix)\n",
    "\n",
    "@partial(jit, static_argnums=(2,))\n",
    "def wrapped_output_fun(sigmas_in, whalfs_real, whalfs_shape, y):\n",
    "    w_halfs_in = from_two_reals_ravelled_to_complex(whalfs_real, whalfs_shape)\n",
    "    return output_fun(w_halfs_in, sigmas_in, y, h_conj_t, identity_m, l_matrix)\n",
    "\n",
    "rg = RandomGenerator(f.essential_basis_number, f.dimension)\n",
    "picked_whalfs = np.zeros((n_prior_layers, f.basis_number), dtype=np.complex64)\n",
    "if optimizer in [OptimizerType.HESSIAN_FREE, OptimizerType.ADA_HESSIAN]:\n",
    "    picked_whalfs = rg.construct_w_half(n_prior_layers)\n",
    "picked_log_sigmas = np.zeros(n_prior_layers + 1)\n",
    "sigmas = np.ones(n_prior_layers + 1)"
   ]
  },
  {
   "cell_type": "code",
   "execution_count": 13,
   "metadata": {},
   "outputs": [],
   "source": [
    "if use_randomized_initialization:\n",
    "    print('Use a randomized initial condition ...')\n",
    "    picked_val = np.inf\n",
    "    loss_val = np.nan\n",
    "    prngkey = jrandom.PRNGKey(random_seed)\n",
    "    w_halfs_many = rg.construct_w_half(n_prior_layers * random_loop_length)\n",
    "    w_halfs_many = w_halfs_many.reshape((random_loop_length, n_prior_layers, l_matrix.fourier.basis_number))\n",
    "    prngkey, subkeys = jrandom.split(prngkey)\n",
    "    log_sigmas = jrandom.normal(subkeys, shape=(random_loop_length, n_prior_layers + 1))\n",
    "    for i in trange(random_loop_length):\n",
    "        sigmas = np.exp(picked_log_sigmas + log_sigmas[i])\n",
    "        w_halfs = picked_whalfs + w_halfs_many[i]\n",
    "        loss_val = loss(w_halfs, sigmas,\n",
    "                        normalized_meas_samples,\n",
    "                        h_conj_t, identity_m, l_matrix).block_until_ready()  # test with first measurement\n",
    "\n",
    "        if loss_val < 0.:  # below zero seems an invalid value\n",
    "            continue\n",
    "\n",
    "        if loss_val < picked_val:\n",
    "            picked_val = loss_val\n",
    "            picked_whalfs = w_halfs\n",
    "            picked_log_sigmas = np.log(sigmas)\n",
    "            print('update picked_val to {}'.format(picked_val))\n",
    "        if picked_val < required_max_loss_val:\n",
    "            break"
   ]
  },
  {
   "cell_type": "code",
   "execution_count": 14,
   "metadata": {},
   "outputs": [],
   "source": [
    "if optimizer in [OptimizerType.HESSIAN_FREE, OptimizerType.ADA_HESSIAN]:\n",
    "    sigmas = np.exp(picked_log_sigmas)\n",
    "    w_halfs_real, w_halfs_shape = from_complex_w_halfs_to_ravelled_reals(picked_whalfs)\n",
    "    if learn_sigmas:\n",
    "        state_init = np.concatenate((sigmas,w_halfs_real))\n",
    "    else:\n",
    "        state_init = w_halfs_real\n",
    "    \n",
    "    if optimizer == OptimizerType.ADA_HESSIAN:\n",
    "        opt = adahessian(step_size=step_scale,b1=adahessian_b1,b2=adahessian_b2)\n",
    "        rng = jax.random.PRNGKey(1)\n",
    "        opt_state = opt.init_fn(state_init)\n",
    "\n",
    "else:\n",
    "    if learn_sigmas:\n",
    "        state_init = (sigmas,picked_whalfs.copy())\n",
    "    else:\n",
    "        state_init = (picked_whalfs.copy(),)\n",
    "    \n",
    "    if optimizer == OptimizerType.ADAM:\n",
    "        opt = jopt.adam(step_size=step_scale,b1=adam_b1,b2=adam_b2)\n",
    "        opt_state = opt.init_fn(state_init)\n",
    "    elif optimizer == OptimizerType.RMSPROP:\n",
    "        opt = jopt.rmsprop(step_size=step_scale)\n",
    "        opt_state = opt.init_fn(state_init)\n",
    "    elif optimizer == OptimizerType.RMSPROP_MOMENTUM:\n",
    "        opt = jopt.rmsprop_momentum(step_size=step_scale, momentum=momentum)\n",
    "        opt_state = opt.init_fn(state_init)"
   ]
  },
  {
   "cell_type": "code",
   "execution_count": 15,
   "metadata": {},
   "outputs": [],
   "source": [
    "simulation_time_string = datetime.now().strftime(\"%d_%m_%Y_%H_%M_%S\")\n",
    "simulation_id = simulation_time_string + '_n_prior_layers' + str(n_prior_layers)\n",
    "\n",
    "loss_val_list = []\n",
    "nu_val_list = []\n",
    "v_mean_list = []\n",
    "v_std_list = []\n",
    "kappa_list = []\n",
    "end_state_list = []"
   ]
  },
  {
   "cell_type": "code",
   "execution_count": 16,
   "metadata": {},
   "outputs": [],
   "source": [
    "# end_state = opt.params_fn(opt_state)\n",
    "# if optimizer in [OptimizerType.ADA_HESSIAN, OptimizerType.HESSIAN_FREE]:\n",
    "#     if learn_sigmas:\n",
    "#         sigmas = end_state[:n_sigmas]\n",
    "#         w_halfs_real = end_state[n_sigmas:]\n",
    "#     else:\n",
    "#         w_halfs_real = end_state\n",
    "#     w_halfs = from_two_reals_ravelled_to_complex(w_halfs_real,(2,n_prior_layers,f.basis_number))\n",
    "# else:\n",
    "#     if learn_sigmas:\n",
    "#         (w_halfs,sigmas) = opt.params_fn(opt_state)\n",
    "#     else:\n",
    "#         (w_halfs,) = opt.params_fn(opt_state)\n",
    "# v_mean, v_std = non_analytical_mean_and_std(w_halfs,sigmas,h_matrix,y,1,l_matrix,f,rg)\n",
    "# plt.figure(figsize=fig_size)\n",
    "# plt.imshow(v_mean,cmap=plt.cm.seismic_r, origin='upper')"
   ]
  },
  {
   "cell_type": "code",
   "execution_count": 17,
   "metadata": {},
   "outputs": [],
   "source": [
    "# u_min_1 = symmetrize(l_matrix.u_half_min_1,False).reshape(f.symmetric_shape,order=sino.ravel_order)\n",
    "# kappa = l_matrix.kappa_fun(f.irfft(u_min_1[:, f.essential_basis_number - 1:]))\n",
    "# plt.figure(figsize=fig_size)\n",
    "# plt.imshow(1/kappa,cmap=plt.cm.seismic_r, origin='upper')"
   ]
  },
  {
   "cell_type": "code",
   "execution_count": 22,
   "metadata": {
    "collapsed": false,
    "jupyter": {
     "outputs_hidden": false
    },
    "pycharm": {
     "name": "#%%\n"
    }
   },
   "outputs": [
    {
     "name": "stderr",
     "output_type": "stream",
     "text": [
      "Current loss value = 3370.6096:  13%|█▎        | 1275/10000 [32:30<3:42:24,  1.53s/it]\n"
     ]
    },
    {
     "ename": "KeyboardInterrupt",
     "evalue": "",
     "output_type": "error",
     "traceback": [
      "\u001B[0;31m---------------------------------------------------------------------------\u001B[0m",
      "\u001B[0;31mKeyboardInterrupt\u001B[0m                         Traceback (most recent call last)",
      "\u001B[0;32m<ipython-input-22-3a58bcca5f01>\u001B[0m in \u001B[0;36m<module>\u001B[0;34m\u001B[0m\n\u001B[1;32m     74\u001B[0m                 \u001B[0;32mfor\u001B[0m \u001B[0mstep\u001B[0m \u001B[0;32min\u001B[0m \u001B[0mtr\u001B[0m\u001B[0;34m:\u001B[0m\u001B[0;34m\u001B[0m\u001B[0;34m\u001B[0m\u001B[0m\n\u001B[1;32m     75\u001B[0m                     \u001B[0mrng\u001B[0m\u001B[0;34m,\u001B[0m \u001B[0mrng_param\u001B[0m \u001B[0;34m=\u001B[0m \u001B[0mjax\u001B[0m\u001B[0;34m.\u001B[0m\u001B[0mrandom\u001B[0m\u001B[0;34m.\u001B[0m\u001B[0msplit\u001B[0m\u001B[0;34m(\u001B[0m\u001B[0mrng\u001B[0m\u001B[0;34m)\u001B[0m\u001B[0;34m\u001B[0m\u001B[0;34m\u001B[0m\u001B[0m\n\u001B[0;32m---> 76\u001B[0;31m                     \u001B[0mval\u001B[0m\u001B[0;34m,\u001B[0m \u001B[0mopt_state\u001B[0m \u001B[0;34m=\u001B[0m \u001B[0moptimizer_step\u001B[0m\u001B[0;34m(\u001B[0m\u001B[0mstep\u001B[0m\u001B[0;34m,\u001B[0m \u001B[0mopt_state\u001B[0m\u001B[0;34m,\u001B[0m \u001B[0mrng_param\u001B[0m\u001B[0;34m)\u001B[0m\u001B[0;34m\u001B[0m\u001B[0;34m\u001B[0m\u001B[0m\n\u001B[0m\u001B[1;32m     77\u001B[0m                     \u001B[0mvalue_hist\u001B[0m\u001B[0;34m.\u001B[0m\u001B[0mappend\u001B[0m\u001B[0;34m(\u001B[0m\u001B[0mval\u001B[0m\u001B[0;34m)\u001B[0m\u001B[0;34m\u001B[0m\u001B[0;34m\u001B[0m\u001B[0m\n\u001B[1;32m     78\u001B[0m                     \u001B[0mtr\u001B[0m\u001B[0;34m.\u001B[0m\u001B[0mset_description\u001B[0m\u001B[0;34m(\u001B[0m\u001B[0;34m'Current loss value = {:.4f}'\u001B[0m\u001B[0;34m.\u001B[0m\u001B[0mformat\u001B[0m\u001B[0;34m(\u001B[0m\u001B[0mval\u001B[0m\u001B[0;34m)\u001B[0m\u001B[0;34m)\u001B[0m\u001B[0;34m\u001B[0m\u001B[0;34m\u001B[0m\u001B[0m\n",
      "\u001B[0;32m<ipython-input-22-3a58bcca5f01>\u001B[0m in \u001B[0;36moptimizer_step\u001B[0;34m(step, opt_state, rng)\u001B[0m\n\u001B[1;32m     59\u001B[0m \u001B[0;34m\u001B[0m\u001B[0m\n\u001B[1;32m     60\u001B[0m             val, gradient, hessian = value_grad_and_hessian(fun, (opt.params_fn(opt_state),), rng,\n\u001B[0;32m---> 61\u001B[0;31m                                                             argnum=0)\n\u001B[0m\u001B[1;32m     62\u001B[0m             \u001B[0;32mif\u001B[0m \u001B[0mnp\u001B[0m\u001B[0;34m.\u001B[0m\u001B[0misnan\u001B[0m\u001B[0;34m(\u001B[0m\u001B[0mval\u001B[0m\u001B[0;34m)\u001B[0m\u001B[0;34m:\u001B[0m\u001B[0;34m\u001B[0m\u001B[0;34m\u001B[0m\u001B[0m\n\u001B[1;32m     63\u001B[0m                 \u001B[0;32mraise\u001B[0m \u001B[0mStopIteration\u001B[0m\u001B[0;34m\u001B[0m\u001B[0;34m\u001B[0m\u001B[0m\n",
      "\u001B[0;32m~/GitHub/JaxDeepSPDE/Optimizers/AdaHessianJax/adahessianJax/hessian_computation.py\u001B[0m in \u001B[0;36mvalue_grad_and_hessian\u001B[0;34m(f, x, rng, argnum)\u001B[0m\n\u001B[1;32m     86\u001B[0m     \u001B[0;32mif\u001B[0m \u001B[0;32mnot\u001B[0m \u001B[0misinstance\u001B[0m\u001B[0;34m(\u001B[0m\u001B[0mx\u001B[0m\u001B[0;34m,\u001B[0m \u001B[0mtuple\u001B[0m\u001B[0;34m)\u001B[0m\u001B[0;34m:\u001B[0m \u001B[0;32mraise\u001B[0m \u001B[0mValueError\u001B[0m\u001B[0;34m(\u001B[0m\u001B[0;34mf'Function input must be a tuple but is a {type(x)}, you might want to wrap your input as `(input,)` instead of `x`.'\u001B[0m\u001B[0;34m)\u001B[0m\u001B[0;34m\u001B[0m\u001B[0;34m\u001B[0m\u001B[0m\n\u001B[1;32m     87\u001B[0m     \u001B[0mrandom_vector\u001B[0m \u001B[0;34m=\u001B[0m \u001B[0m_make_random_tree\u001B[0m\u001B[0;34m(\u001B[0m\u001B[0mx\u001B[0m\u001B[0;34m,\u001B[0m \u001B[0mrng\u001B[0m\u001B[0;34m)\u001B[0m\u001B[0;34m\u001B[0m\u001B[0;34m\u001B[0m\u001B[0m\n\u001B[0;32m---> 88\u001B[0;31m     \u001B[0mvalue\u001B[0m\u001B[0;34m,\u001B[0m \u001B[0mgradient\u001B[0m\u001B[0;34m,\u001B[0m \u001B[0mhessian_vector_prod\u001B[0m \u001B[0;34m=\u001B[0m \u001B[0m_value_gradient_and_hessian_vector_product\u001B[0m\u001B[0;34m(\u001B[0m\u001B[0mf\u001B[0m\u001B[0;34m,\u001B[0m \u001B[0mx\u001B[0m\u001B[0;34m,\u001B[0m \u001B[0mrandom_vector\u001B[0m\u001B[0;34m,\u001B[0m \u001B[0margnums\u001B[0m\u001B[0;34m=\u001B[0m\u001B[0margnum\u001B[0m\u001B[0;34m)\u001B[0m\u001B[0;34m\u001B[0m\u001B[0;34m\u001B[0m\u001B[0m\n\u001B[0m\u001B[1;32m     89\u001B[0m     \u001B[0mhessian\u001B[0m \u001B[0;34m=\u001B[0m \u001B[0m_tree_product\u001B[0m\u001B[0;34m(\u001B[0m\u001B[0mrandom_vector\u001B[0m\u001B[0;34m[\u001B[0m\u001B[0margnum\u001B[0m\u001B[0;34m]\u001B[0m\u001B[0;34m,\u001B[0m\u001B[0mhessian_vector_prod\u001B[0m\u001B[0;34m)\u001B[0m\u001B[0;34m\u001B[0m\u001B[0;34m\u001B[0m\u001B[0m\n\u001B[1;32m     90\u001B[0m     \u001B[0;32mreturn\u001B[0m \u001B[0mvalue\u001B[0m\u001B[0;34m,\u001B[0m \u001B[0mgradient\u001B[0m\u001B[0;34m,\u001B[0m \u001B[0mhessian\u001B[0m\u001B[0;34m\u001B[0m\u001B[0;34m\u001B[0m\u001B[0m\n",
      "\u001B[0;32m~/GitHub/JaxDeepSPDE/Optimizers/AdaHessianJax/adahessianJax/hessian_computation.py\u001B[0m in \u001B[0;36m_value_gradient_and_hessian_vector_product\u001B[0;34m(f, primals, tangents, argnums)\u001B[0m\n\u001B[1;32m     73\u001B[0m     \u001B[0;31m`\u001B[0m\u001B[0mprimals\u001B[0m\u001B[0;31m`\u001B[0m \u001B[0;32mand\u001B[0m\u001B[0;31m \u001B[0m\u001B[0;31m`\u001B[0m\u001B[0mtangent\u001B[0m\u001B[0;31m`\u001B[0m \u001B[0mare\u001B[0m \u001B[0mexpected\u001B[0m \u001B[0mto\u001B[0m \u001B[0mbe\u001B[0m \u001B[0mtuples\u001B[0m \u001B[0;32mwith\u001B[0m \u001B[0mone\u001B[0m \u001B[0melement\u001B[0m \u001B[0mper\u001B[0m \u001B[0minput\u001B[0m \u001B[0mof\u001B[0m \u001B[0mf\u001B[0m\u001B[0;34m,\u001B[0m \u001B[0;32mif\u001B[0m \u001B[0mf\u001B[0m \u001B[0mhas\u001B[0m \u001B[0monly\u001B[0m \u001B[0mone\u001B[0m \u001B[0minput\u001B[0m\u001B[0;34m,\u001B[0m \u001B[0myou\u001B[0m \u001B[0mcan\u001B[0m \u001B[0;32mpass\u001B[0m \u001B[0msomething\u001B[0m \u001B[0mof\u001B[0m \u001B[0mthe\u001B[0m \u001B[0mform\u001B[0m \u001B[0;34m(\u001B[0m\u001B[0mx\u001B[0m\u001B[0;34m,\u001B[0m\u001B[0;34m)\u001B[0m \u001B[0mto\u001B[0m \u001B[0msignify\u001B[0m \u001B[0ma\u001B[0m \u001B[0mone\u001B[0m \u001B[0melement\u001B[0m \u001B[0mtuple\u001B[0m\u001B[0;34m.\u001B[0m\u001B[0;34m\u001B[0m\u001B[0;34m\u001B[0m\u001B[0m\n\u001B[1;32m     74\u001B[0m     \"\"\"\n\u001B[0;32m---> 75\u001B[0;31m     \u001B[0;34m(\u001B[0m\u001B[0;34m(\u001B[0m\u001B[0mvalue\u001B[0m\u001B[0;34m,\u001B[0m \u001B[0mgradient\u001B[0m\u001B[0;34m)\u001B[0m\u001B[0;34m,\u001B[0m \u001B[0;34m(\u001B[0m\u001B[0m_\u001B[0m\u001B[0;34m,\u001B[0m\u001B[0mhessian_vector_prod\u001B[0m\u001B[0;34m)\u001B[0m\u001B[0;34m)\u001B[0m \u001B[0;34m=\u001B[0m \u001B[0mjvp\u001B[0m\u001B[0;34m(\u001B[0m\u001B[0mvalue_and_grad\u001B[0m\u001B[0;34m(\u001B[0m\u001B[0mf\u001B[0m\u001B[0;34m,\u001B[0m \u001B[0margnums\u001B[0m\u001B[0;34m=\u001B[0m\u001B[0margnums\u001B[0m\u001B[0;34m)\u001B[0m\u001B[0;34m,\u001B[0m \u001B[0mprimals\u001B[0m\u001B[0;34m,\u001B[0m \u001B[0mtangents\u001B[0m\u001B[0;34m)\u001B[0m\u001B[0;34m\u001B[0m\u001B[0;34m\u001B[0m\u001B[0m\n\u001B[0m\u001B[1;32m     76\u001B[0m     \u001B[0;32mreturn\u001B[0m \u001B[0mvalue\u001B[0m\u001B[0;34m,\u001B[0m \u001B[0mgradient\u001B[0m\u001B[0;34m,\u001B[0m \u001B[0mhessian_vector_prod\u001B[0m\u001B[0;34m\u001B[0m\u001B[0;34m\u001B[0m\u001B[0m\n\u001B[1;32m     77\u001B[0m \u001B[0;34m\u001B[0m\u001B[0m\n",
      "\u001B[0;32m~/GitHub/JaxDeepSPDE/venv/lib/python3.7/site-packages/jax/api.py\u001B[0m in \u001B[0;36mjvp\u001B[0;34m(fun, primals, tangents)\u001B[0m\n\u001B[1;32m   1698\u001B[0m   \"\"\"\n\u001B[1;32m   1699\u001B[0m   \u001B[0m_check_callable\u001B[0m\u001B[0;34m(\u001B[0m\u001B[0mfun\u001B[0m\u001B[0;34m)\u001B[0m\u001B[0;34m\u001B[0m\u001B[0;34m\u001B[0m\u001B[0m\n\u001B[0;32m-> 1700\u001B[0;31m   \u001B[0;32mreturn\u001B[0m \u001B[0m_jvp\u001B[0m\u001B[0;34m(\u001B[0m\u001B[0mlu\u001B[0m\u001B[0;34m.\u001B[0m\u001B[0mwrap_init\u001B[0m\u001B[0;34m(\u001B[0m\u001B[0mfun\u001B[0m\u001B[0;34m)\u001B[0m\u001B[0;34m,\u001B[0m \u001B[0mprimals\u001B[0m\u001B[0;34m,\u001B[0m \u001B[0mtangents\u001B[0m\u001B[0;34m)\u001B[0m\u001B[0;34m\u001B[0m\u001B[0;34m\u001B[0m\u001B[0m\n\u001B[0m\u001B[1;32m   1701\u001B[0m \u001B[0;34m\u001B[0m\u001B[0m\n\u001B[1;32m   1702\u001B[0m \u001B[0;32mdef\u001B[0m \u001B[0m_jvp\u001B[0m\u001B[0;34m(\u001B[0m\u001B[0mfun\u001B[0m\u001B[0;34m:\u001B[0m \u001B[0mlu\u001B[0m\u001B[0;34m.\u001B[0m\u001B[0mWrappedFun\u001B[0m\u001B[0;34m,\u001B[0m \u001B[0mprimals\u001B[0m\u001B[0;34m,\u001B[0m \u001B[0mtangents\u001B[0m\u001B[0;34m)\u001B[0m\u001B[0;34m:\u001B[0m\u001B[0;34m\u001B[0m\u001B[0;34m\u001B[0m\u001B[0m\n",
      "\u001B[0;32m~/GitHub/JaxDeepSPDE/venv/lib/python3.7/site-packages/jax/api.py\u001B[0m in \u001B[0;36m_jvp\u001B[0;34m(fun, primals, tangents)\u001B[0m\n\u001B[1;32m   1726\u001B[0m \u001B[0;34m\u001B[0m\u001B[0m\n\u001B[1;32m   1727\u001B[0m   \u001B[0mflat_fun\u001B[0m\u001B[0;34m,\u001B[0m \u001B[0mout_tree\u001B[0m \u001B[0;34m=\u001B[0m \u001B[0mflatten_fun_nokwargs\u001B[0m\u001B[0;34m(\u001B[0m\u001B[0mfun\u001B[0m\u001B[0;34m,\u001B[0m \u001B[0mtree_def\u001B[0m\u001B[0;34m)\u001B[0m\u001B[0;34m\u001B[0m\u001B[0;34m\u001B[0m\u001B[0m\n\u001B[0;32m-> 1728\u001B[0;31m   \u001B[0mout_primals\u001B[0m\u001B[0;34m,\u001B[0m \u001B[0mout_tangents\u001B[0m \u001B[0;34m=\u001B[0m \u001B[0mad\u001B[0m\u001B[0;34m.\u001B[0m\u001B[0mjvp\u001B[0m\u001B[0;34m(\u001B[0m\u001B[0mflat_fun\u001B[0m\u001B[0;34m)\u001B[0m\u001B[0;34m.\u001B[0m\u001B[0mcall_wrapped\u001B[0m\u001B[0;34m(\u001B[0m\u001B[0mps_flat\u001B[0m\u001B[0;34m,\u001B[0m \u001B[0mts_flat\u001B[0m\u001B[0;34m)\u001B[0m\u001B[0;34m\u001B[0m\u001B[0;34m\u001B[0m\u001B[0m\n\u001B[0m\u001B[1;32m   1729\u001B[0m   return (tree_unflatten(out_tree(), out_primals),\n\u001B[1;32m   1730\u001B[0m           tree_unflatten(out_tree(), out_tangents))\n",
      "\u001B[0;32m~/GitHub/JaxDeepSPDE/venv/lib/python3.7/site-packages/jax/linear_util.py\u001B[0m in \u001B[0;36mcall_wrapped\u001B[0;34m(self, *args, **kwargs)\u001B[0m\n\u001B[1;32m    164\u001B[0m \u001B[0;34m\u001B[0m\u001B[0m\n\u001B[1;32m    165\u001B[0m     \u001B[0;32mtry\u001B[0m\u001B[0;34m:\u001B[0m\u001B[0;34m\u001B[0m\u001B[0;34m\u001B[0m\u001B[0m\n\u001B[0;32m--> 166\u001B[0;31m       \u001B[0mans\u001B[0m \u001B[0;34m=\u001B[0m \u001B[0mself\u001B[0m\u001B[0;34m.\u001B[0m\u001B[0mf\u001B[0m\u001B[0;34m(\u001B[0m\u001B[0;34m*\u001B[0m\u001B[0margs\u001B[0m\u001B[0;34m,\u001B[0m \u001B[0;34m**\u001B[0m\u001B[0mdict\u001B[0m\u001B[0;34m(\u001B[0m\u001B[0mself\u001B[0m\u001B[0;34m.\u001B[0m\u001B[0mparams\u001B[0m\u001B[0;34m,\u001B[0m \u001B[0;34m**\u001B[0m\u001B[0mkwargs\u001B[0m\u001B[0;34m)\u001B[0m\u001B[0;34m)\u001B[0m\u001B[0;34m\u001B[0m\u001B[0;34m\u001B[0m\u001B[0m\n\u001B[0m\u001B[1;32m    167\u001B[0m     \u001B[0;32mexcept\u001B[0m\u001B[0;34m:\u001B[0m\u001B[0;34m\u001B[0m\u001B[0;34m\u001B[0m\u001B[0m\n\u001B[1;32m    168\u001B[0m       \u001B[0;31m# Some transformations yield from inside context managers, so we have to\u001B[0m\u001B[0;34m\u001B[0m\u001B[0;34m\u001B[0m\u001B[0;34m\u001B[0m\u001B[0m\n",
      "\u001B[0;32m~/GitHub/JaxDeepSPDE/venv/lib/python3.7/site-packages/jax/_src/traceback_util.py\u001B[0m in \u001B[0;36mreraise_with_filtered_traceback\u001B[0;34m(*args, **kwargs)\u001B[0m\n\u001B[1;32m    137\u001B[0m   \u001B[0;32mdef\u001B[0m \u001B[0mreraise_with_filtered_traceback\u001B[0m\u001B[0;34m(\u001B[0m\u001B[0;34m*\u001B[0m\u001B[0margs\u001B[0m\u001B[0;34m,\u001B[0m \u001B[0;34m**\u001B[0m\u001B[0mkwargs\u001B[0m\u001B[0;34m)\u001B[0m\u001B[0;34m:\u001B[0m\u001B[0;34m\u001B[0m\u001B[0;34m\u001B[0m\u001B[0m\n\u001B[1;32m    138\u001B[0m     \u001B[0;32mtry\u001B[0m\u001B[0;34m:\u001B[0m\u001B[0;34m\u001B[0m\u001B[0;34m\u001B[0m\u001B[0m\n\u001B[0;32m--> 139\u001B[0;31m       \u001B[0;32mreturn\u001B[0m \u001B[0mfun\u001B[0m\u001B[0;34m(\u001B[0m\u001B[0;34m*\u001B[0m\u001B[0margs\u001B[0m\u001B[0;34m,\u001B[0m \u001B[0;34m**\u001B[0m\u001B[0mkwargs\u001B[0m\u001B[0;34m)\u001B[0m\u001B[0;34m\u001B[0m\u001B[0;34m\u001B[0m\u001B[0m\n\u001B[0m\u001B[1;32m    140\u001B[0m     \u001B[0;32mexcept\u001B[0m \u001B[0mException\u001B[0m \u001B[0;32mas\u001B[0m \u001B[0me\u001B[0m\u001B[0;34m:\u001B[0m\u001B[0;34m\u001B[0m\u001B[0;34m\u001B[0m\u001B[0m\n\u001B[1;32m    141\u001B[0m       \u001B[0;32mif\u001B[0m \u001B[0;32mnot\u001B[0m \u001B[0mis_under_reraiser\u001B[0m\u001B[0;34m(\u001B[0m\u001B[0me\u001B[0m\u001B[0;34m)\u001B[0m\u001B[0;34m:\u001B[0m\u001B[0;34m\u001B[0m\u001B[0;34m\u001B[0m\u001B[0m\n",
      "\u001B[0;32m~/GitHub/JaxDeepSPDE/venv/lib/python3.7/site-packages/jax/api.py\u001B[0m in \u001B[0;36mvalue_and_grad_f\u001B[0;34m(*args, **kwargs)\u001B[0m\n\u001B[1;32m    812\u001B[0m     \u001B[0mdtype\u001B[0m \u001B[0;34m=\u001B[0m \u001B[0mdtypes\u001B[0m\u001B[0;34m.\u001B[0m\u001B[0mresult_type\u001B[0m\u001B[0;34m(\u001B[0m\u001B[0mans\u001B[0m\u001B[0;34m)\u001B[0m\u001B[0;34m\u001B[0m\u001B[0;34m\u001B[0m\u001B[0m\n\u001B[1;32m    813\u001B[0m     \u001B[0mtree_map\u001B[0m\u001B[0;34m(\u001B[0m\u001B[0mpartial\u001B[0m\u001B[0;34m(\u001B[0m\u001B[0m_check_output_dtype_grad\u001B[0m\u001B[0;34m,\u001B[0m \u001B[0mholomorphic\u001B[0m\u001B[0;34m)\u001B[0m\u001B[0;34m,\u001B[0m \u001B[0mans\u001B[0m\u001B[0;34m)\u001B[0m\u001B[0;34m\u001B[0m\u001B[0;34m\u001B[0m\u001B[0m\n\u001B[0;32m--> 814\u001B[0;31m     \u001B[0mg\u001B[0m \u001B[0;34m=\u001B[0m \u001B[0mvjp_py\u001B[0m\u001B[0;34m(\u001B[0m\u001B[0mnp\u001B[0m\u001B[0;34m.\u001B[0m\u001B[0mones\u001B[0m\u001B[0;34m(\u001B[0m\u001B[0;34m(\u001B[0m\u001B[0;34m)\u001B[0m\u001B[0;34m,\u001B[0m \u001B[0mdtype\u001B[0m\u001B[0;34m=\u001B[0m\u001B[0mdtype\u001B[0m\u001B[0;34m)\u001B[0m\u001B[0;34m)\u001B[0m\u001B[0;34m\u001B[0m\u001B[0;34m\u001B[0m\u001B[0m\n\u001B[0m\u001B[1;32m    815\u001B[0m     \u001B[0mg\u001B[0m \u001B[0;34m=\u001B[0m \u001B[0mg\u001B[0m\u001B[0;34m[\u001B[0m\u001B[0;36m0\u001B[0m\u001B[0;34m]\u001B[0m \u001B[0;32mif\u001B[0m \u001B[0misinstance\u001B[0m\u001B[0;34m(\u001B[0m\u001B[0margnums\u001B[0m\u001B[0;34m,\u001B[0m \u001B[0mint\u001B[0m\u001B[0;34m)\u001B[0m \u001B[0;32melse\u001B[0m \u001B[0mg\u001B[0m\u001B[0;34m\u001B[0m\u001B[0;34m\u001B[0m\u001B[0m\n\u001B[1;32m    816\u001B[0m     \u001B[0;32mif\u001B[0m \u001B[0;32mnot\u001B[0m \u001B[0mhas_aux\u001B[0m\u001B[0;34m:\u001B[0m\u001B[0;34m\u001B[0m\u001B[0;34m\u001B[0m\u001B[0m\n",
      "\u001B[0;32m~/GitHub/JaxDeepSPDE/venv/lib/python3.7/site-packages/jax/api.py\u001B[0m in \u001B[0;36m_vjp_pullback_wrapper\u001B[0;34m(cotangent_dtypes, io_tree, fun, py_args)\u001B[0m\n\u001B[1;32m   1832\u001B[0m           \u001B[0;34mf\"the expected tangent type ({expected_tangent_dtype}) of corresponding primal output \"\u001B[0m\u001B[0;34m\u001B[0m\u001B[0;34m\u001B[0m\u001B[0m\n\u001B[1;32m   1833\u001B[0m           f\"with dtype {_dtype(arg)}.\")\n\u001B[0;32m-> 1834\u001B[0;31m   \u001B[0mans\u001B[0m \u001B[0;34m=\u001B[0m \u001B[0mfun\u001B[0m\u001B[0;34m(\u001B[0m\u001B[0;34m*\u001B[0m\u001B[0margs\u001B[0m\u001B[0;34m)\u001B[0m\u001B[0;34m\u001B[0m\u001B[0;34m\u001B[0m\u001B[0m\n\u001B[0m\u001B[1;32m   1835\u001B[0m   \u001B[0;32mreturn\u001B[0m \u001B[0mtree_unflatten\u001B[0m\u001B[0;34m(\u001B[0m\u001B[0mout_tree\u001B[0m\u001B[0;34m,\u001B[0m \u001B[0mans\u001B[0m\u001B[0;34m)\u001B[0m\u001B[0;34m\u001B[0m\u001B[0;34m\u001B[0m\u001B[0m\n\u001B[1;32m   1836\u001B[0m \u001B[0;34m\u001B[0m\u001B[0m\n",
      "\u001B[0;32m~/GitHub/JaxDeepSPDE/venv/lib/python3.7/site-packages/jax/interpreters/ad.py\u001B[0m in \u001B[0;36munbound_vjp\u001B[0;34m(pvals, jaxpr, consts, *cts)\u001B[0m\n\u001B[1;32m    119\u001B[0m     \u001B[0mcts\u001B[0m \u001B[0;34m=\u001B[0m \u001B[0mtuple\u001B[0m\u001B[0;34m(\u001B[0m\u001B[0mmap\u001B[0m\u001B[0;34m(\u001B[0m\u001B[0mignore_consts\u001B[0m\u001B[0;34m,\u001B[0m \u001B[0mcts\u001B[0m\u001B[0;34m,\u001B[0m \u001B[0mpvals\u001B[0m\u001B[0;34m)\u001B[0m\u001B[0;34m)\u001B[0m\u001B[0;34m\u001B[0m\u001B[0;34m\u001B[0m\u001B[0m\n\u001B[1;32m    120\u001B[0m     \u001B[0mdummy_args\u001B[0m \u001B[0;34m=\u001B[0m \u001B[0;34m[\u001B[0m\u001B[0mUndefinedPrimal\u001B[0m\u001B[0;34m(\u001B[0m\u001B[0mv\u001B[0m\u001B[0;34m.\u001B[0m\u001B[0maval\u001B[0m\u001B[0;34m)\u001B[0m \u001B[0;32mfor\u001B[0m \u001B[0mv\u001B[0m \u001B[0;32min\u001B[0m \u001B[0mjaxpr\u001B[0m\u001B[0;34m.\u001B[0m\u001B[0minvars\u001B[0m\u001B[0;34m]\u001B[0m\u001B[0;34m\u001B[0m\u001B[0;34m\u001B[0m\u001B[0m\n\u001B[0;32m--> 121\u001B[0;31m     \u001B[0marg_cts\u001B[0m \u001B[0;34m=\u001B[0m \u001B[0mbackward_pass\u001B[0m\u001B[0;34m(\u001B[0m\u001B[0mjaxpr\u001B[0m\u001B[0;34m,\u001B[0m \u001B[0mconsts\u001B[0m\u001B[0;34m,\u001B[0m \u001B[0mdummy_args\u001B[0m\u001B[0;34m,\u001B[0m \u001B[0mcts\u001B[0m\u001B[0;34m)\u001B[0m\u001B[0;34m\u001B[0m\u001B[0;34m\u001B[0m\u001B[0m\n\u001B[0m\u001B[1;32m    122\u001B[0m     \u001B[0;32mreturn\u001B[0m \u001B[0mmap\u001B[0m\u001B[0;34m(\u001B[0m\u001B[0minstantiate_zeros\u001B[0m\u001B[0;34m,\u001B[0m \u001B[0marg_cts\u001B[0m\u001B[0;34m)\u001B[0m\u001B[0;34m\u001B[0m\u001B[0;34m\u001B[0m\u001B[0m\n\u001B[1;32m    123\u001B[0m \u001B[0;34m\u001B[0m\u001B[0m\n",
      "\u001B[0;32m~/GitHub/JaxDeepSPDE/venv/lib/python3.7/site-packages/jax/interpreters/ad.py\u001B[0m in \u001B[0;36mbackward_pass\u001B[0;34m(jaxpr, consts, primals_in, cotangents_in)\u001B[0m\n\u001B[1;32m    223\u001B[0m         \u001B[0mcall_jaxpr\u001B[0m\u001B[0;34m,\u001B[0m \u001B[0mparams\u001B[0m \u001B[0;34m=\u001B[0m \u001B[0mcore\u001B[0m\u001B[0;34m.\u001B[0m\u001B[0mextract_call_jaxpr\u001B[0m\u001B[0;34m(\u001B[0m\u001B[0meqn\u001B[0m\u001B[0;34m.\u001B[0m\u001B[0mprimitive\u001B[0m\u001B[0;34m,\u001B[0m \u001B[0meqn\u001B[0m\u001B[0;34m.\u001B[0m\u001B[0mparams\u001B[0m\u001B[0;34m)\u001B[0m\u001B[0;34m\u001B[0m\u001B[0;34m\u001B[0m\u001B[0m\n\u001B[1;32m    224\u001B[0m         cts_out = get_primitive_transpose(eqn.primitive)(\n\u001B[0;32m--> 225\u001B[0;31m             params, call_jaxpr, invals, cts_in, cts_in_avals)\n\u001B[0m\u001B[1;32m    226\u001B[0m       \u001B[0;32melse\u001B[0m\u001B[0;34m:\u001B[0m\u001B[0;34m\u001B[0m\u001B[0;34m\u001B[0m\u001B[0m\n\u001B[1;32m    227\u001B[0m         cts_out = get_primitive_transpose(eqn.primitive)(cts_in, *invals,\n",
      "\u001B[0;32m~/GitHub/JaxDeepSPDE/venv/lib/python3.7/site-packages/jax/interpreters/ad.py\u001B[0m in \u001B[0;36mcall_transpose\u001B[0;34m(primitive, params, call_jaxpr, args, ct, _)\u001B[0m\n\u001B[1;32m    550\u001B[0m     new_params = update_params(new_params, map(is_undefined_primal, args),\n\u001B[1;32m    551\u001B[0m                                [type(x) is not Zero for x in ct])\n\u001B[0;32m--> 552\u001B[0;31m   \u001B[0mout_flat\u001B[0m \u001B[0;34m=\u001B[0m \u001B[0mprimitive\u001B[0m\u001B[0;34m.\u001B[0m\u001B[0mbind\u001B[0m\u001B[0;34m(\u001B[0m\u001B[0mfun\u001B[0m\u001B[0;34m,\u001B[0m \u001B[0;34m*\u001B[0m\u001B[0mall_args\u001B[0m\u001B[0;34m,\u001B[0m \u001B[0;34m**\u001B[0m\u001B[0mnew_params\u001B[0m\u001B[0;34m)\u001B[0m\u001B[0;34m\u001B[0m\u001B[0;34m\u001B[0m\u001B[0m\n\u001B[0m\u001B[1;32m    553\u001B[0m   \u001B[0;32mreturn\u001B[0m \u001B[0mtree_unflatten\u001B[0m\u001B[0;34m(\u001B[0m\u001B[0mout_tree\u001B[0m\u001B[0;34m(\u001B[0m\u001B[0;34m)\u001B[0m\u001B[0;34m,\u001B[0m \u001B[0mout_flat\u001B[0m\u001B[0;34m)\u001B[0m\u001B[0;34m\u001B[0m\u001B[0;34m\u001B[0m\u001B[0m\n\u001B[1;32m    554\u001B[0m \u001B[0mprimitive_transposes\u001B[0m\u001B[0;34m[\u001B[0m\u001B[0mcore\u001B[0m\u001B[0;34m.\u001B[0m\u001B[0mcall_p\u001B[0m\u001B[0;34m]\u001B[0m \u001B[0;34m=\u001B[0m \u001B[0mpartial\u001B[0m\u001B[0;34m(\u001B[0m\u001B[0mcall_transpose\u001B[0m\u001B[0;34m,\u001B[0m \u001B[0mcall_p\u001B[0m\u001B[0;34m)\u001B[0m\u001B[0;34m\u001B[0m\u001B[0;34m\u001B[0m\u001B[0m\n",
      "\u001B[0;32m~/GitHub/JaxDeepSPDE/venv/lib/python3.7/site-packages/jax/core.py\u001B[0m in \u001B[0;36mbind\u001B[0;34m(self, fun, *args, **params)\u001B[0m\n\u001B[1;32m   1273\u001B[0m \u001B[0;34m\u001B[0m\u001B[0m\n\u001B[1;32m   1274\u001B[0m   \u001B[0;32mdef\u001B[0m \u001B[0mbind\u001B[0m\u001B[0;34m(\u001B[0m\u001B[0mself\u001B[0m\u001B[0;34m,\u001B[0m \u001B[0mfun\u001B[0m\u001B[0;34m,\u001B[0m \u001B[0;34m*\u001B[0m\u001B[0margs\u001B[0m\u001B[0;34m,\u001B[0m \u001B[0;34m**\u001B[0m\u001B[0mparams\u001B[0m\u001B[0;34m)\u001B[0m\u001B[0;34m:\u001B[0m\u001B[0;34m\u001B[0m\u001B[0;34m\u001B[0m\u001B[0m\n\u001B[0;32m-> 1275\u001B[0;31m     \u001B[0;32mreturn\u001B[0m \u001B[0mcall_bind\u001B[0m\u001B[0;34m(\u001B[0m\u001B[0mself\u001B[0m\u001B[0;34m,\u001B[0m \u001B[0mfun\u001B[0m\u001B[0;34m,\u001B[0m \u001B[0;34m*\u001B[0m\u001B[0margs\u001B[0m\u001B[0;34m,\u001B[0m \u001B[0;34m**\u001B[0m\u001B[0mparams\u001B[0m\u001B[0;34m)\u001B[0m\u001B[0;34m\u001B[0m\u001B[0;34m\u001B[0m\u001B[0m\n\u001B[0m\u001B[1;32m   1276\u001B[0m \u001B[0;34m\u001B[0m\u001B[0m\n\u001B[1;32m   1277\u001B[0m   \u001B[0;32mdef\u001B[0m \u001B[0mprocess\u001B[0m\u001B[0;34m(\u001B[0m\u001B[0mself\u001B[0m\u001B[0;34m,\u001B[0m \u001B[0mtrace\u001B[0m\u001B[0;34m,\u001B[0m \u001B[0mfun\u001B[0m\u001B[0;34m,\u001B[0m \u001B[0mtracers\u001B[0m\u001B[0;34m,\u001B[0m \u001B[0mparams\u001B[0m\u001B[0;34m)\u001B[0m\u001B[0;34m:\u001B[0m\u001B[0;34m\u001B[0m\u001B[0;34m\u001B[0m\u001B[0m\n",
      "\u001B[0;32m~/GitHub/JaxDeepSPDE/venv/lib/python3.7/site-packages/jax/core.py\u001B[0m in \u001B[0;36mcall_bind\u001B[0;34m(primitive, fun, *args, **params)\u001B[0m\n\u001B[1;32m   1264\u001B[0m   \u001B[0mtracers\u001B[0m \u001B[0;34m=\u001B[0m \u001B[0mmap\u001B[0m\u001B[0;34m(\u001B[0m\u001B[0mtop_trace\u001B[0m\u001B[0;34m.\u001B[0m\u001B[0mfull_raise\u001B[0m\u001B[0;34m,\u001B[0m \u001B[0margs\u001B[0m\u001B[0;34m)\u001B[0m\u001B[0;34m\u001B[0m\u001B[0;34m\u001B[0m\u001B[0m\n\u001B[1;32m   1265\u001B[0m   \u001B[0;32mwith\u001B[0m \u001B[0mmaybe_new_sublevel\u001B[0m\u001B[0;34m(\u001B[0m\u001B[0mtop_trace\u001B[0m\u001B[0;34m)\u001B[0m\u001B[0;34m:\u001B[0m\u001B[0;34m\u001B[0m\u001B[0;34m\u001B[0m\u001B[0m\n\u001B[0;32m-> 1266\u001B[0;31m     \u001B[0mouts\u001B[0m \u001B[0;34m=\u001B[0m \u001B[0mprimitive\u001B[0m\u001B[0;34m.\u001B[0m\u001B[0mprocess\u001B[0m\u001B[0;34m(\u001B[0m\u001B[0mtop_trace\u001B[0m\u001B[0;34m,\u001B[0m \u001B[0mfun\u001B[0m\u001B[0;34m,\u001B[0m \u001B[0mtracers\u001B[0m\u001B[0;34m,\u001B[0m \u001B[0mparams\u001B[0m\u001B[0;34m)\u001B[0m\u001B[0;34m\u001B[0m\u001B[0;34m\u001B[0m\u001B[0m\n\u001B[0m\u001B[1;32m   1267\u001B[0m   \u001B[0;32mreturn\u001B[0m \u001B[0mmap\u001B[0m\u001B[0;34m(\u001B[0m\u001B[0mfull_lower\u001B[0m\u001B[0;34m,\u001B[0m \u001B[0mapply_todos\u001B[0m\u001B[0;34m(\u001B[0m\u001B[0menv_trace_todo\u001B[0m\u001B[0;34m(\u001B[0m\u001B[0;34m)\u001B[0m\u001B[0;34m,\u001B[0m \u001B[0mouts\u001B[0m\u001B[0;34m)\u001B[0m\u001B[0;34m)\u001B[0m\u001B[0;34m\u001B[0m\u001B[0;34m\u001B[0m\u001B[0m\n\u001B[1;32m   1268\u001B[0m \u001B[0;34m\u001B[0m\u001B[0m\n",
      "\u001B[0;32m~/GitHub/JaxDeepSPDE/venv/lib/python3.7/site-packages/jax/core.py\u001B[0m in \u001B[0;36mprocess\u001B[0;34m(self, trace, fun, tracers, params)\u001B[0m\n\u001B[1;32m   1276\u001B[0m \u001B[0;34m\u001B[0m\u001B[0m\n\u001B[1;32m   1277\u001B[0m   \u001B[0;32mdef\u001B[0m \u001B[0mprocess\u001B[0m\u001B[0;34m(\u001B[0m\u001B[0mself\u001B[0m\u001B[0;34m,\u001B[0m \u001B[0mtrace\u001B[0m\u001B[0;34m,\u001B[0m \u001B[0mfun\u001B[0m\u001B[0;34m,\u001B[0m \u001B[0mtracers\u001B[0m\u001B[0;34m,\u001B[0m \u001B[0mparams\u001B[0m\u001B[0;34m)\u001B[0m\u001B[0;34m:\u001B[0m\u001B[0;34m\u001B[0m\u001B[0;34m\u001B[0m\u001B[0m\n\u001B[0;32m-> 1278\u001B[0;31m     \u001B[0;32mreturn\u001B[0m \u001B[0mtrace\u001B[0m\u001B[0;34m.\u001B[0m\u001B[0mprocess_call\u001B[0m\u001B[0;34m(\u001B[0m\u001B[0mself\u001B[0m\u001B[0;34m,\u001B[0m \u001B[0mfun\u001B[0m\u001B[0;34m,\u001B[0m \u001B[0mtracers\u001B[0m\u001B[0;34m,\u001B[0m \u001B[0mparams\u001B[0m\u001B[0;34m)\u001B[0m\u001B[0;34m\u001B[0m\u001B[0;34m\u001B[0m\u001B[0m\n\u001B[0m\u001B[1;32m   1279\u001B[0m \u001B[0;34m\u001B[0m\u001B[0m\n\u001B[1;32m   1280\u001B[0m   \u001B[0;32mdef\u001B[0m \u001B[0mpost_process\u001B[0m\u001B[0;34m(\u001B[0m\u001B[0mself\u001B[0m\u001B[0;34m,\u001B[0m \u001B[0mtrace\u001B[0m\u001B[0;34m,\u001B[0m \u001B[0mout_tracers\u001B[0m\u001B[0;34m,\u001B[0m \u001B[0mparams\u001B[0m\u001B[0;34m)\u001B[0m\u001B[0;34m:\u001B[0m\u001B[0;34m\u001B[0m\u001B[0;34m\u001B[0m\u001B[0m\n",
      "\u001B[0;32m~/GitHub/JaxDeepSPDE/venv/lib/python3.7/site-packages/jax/interpreters/ad.py\u001B[0m in \u001B[0;36mprocess_call\u001B[0;34m(self, call_primitive, f, tracers, params)\u001B[0m\n\u001B[1;32m    316\u001B[0m     \u001B[0mupdate_params\u001B[0m \u001B[0;34m=\u001B[0m \u001B[0mcall_param_updaters\u001B[0m\u001B[0;34m.\u001B[0m\u001B[0mget\u001B[0m\u001B[0;34m(\u001B[0m\u001B[0mcall_primitive\u001B[0m\u001B[0;34m)\u001B[0m\u001B[0;34m\u001B[0m\u001B[0;34m\u001B[0m\u001B[0m\n\u001B[1;32m    317\u001B[0m     \u001B[0mnew_params\u001B[0m \u001B[0;34m=\u001B[0m \u001B[0mupdate_params\u001B[0m\u001B[0;34m(\u001B[0m\u001B[0mparams\u001B[0m\u001B[0;34m,\u001B[0m \u001B[0mnz_tangents\u001B[0m\u001B[0;34m)\u001B[0m \u001B[0;32mif\u001B[0m \u001B[0mupdate_params\u001B[0m \u001B[0;32melse\u001B[0m \u001B[0mparams\u001B[0m\u001B[0;34m\u001B[0m\u001B[0;34m\u001B[0m\u001B[0m\n\u001B[0;32m--> 318\u001B[0;31m     \u001B[0mresult\u001B[0m \u001B[0;34m=\u001B[0m \u001B[0mcall_primitive\u001B[0m\u001B[0;34m.\u001B[0m\u001B[0mbind\u001B[0m\u001B[0;34m(\u001B[0m\u001B[0mf_jvp\u001B[0m\u001B[0;34m,\u001B[0m \u001B[0;34m*\u001B[0m\u001B[0mprimals\u001B[0m\u001B[0;34m,\u001B[0m \u001B[0;34m*\u001B[0m\u001B[0mnonzero_tangents\u001B[0m\u001B[0;34m,\u001B[0m \u001B[0;34m**\u001B[0m\u001B[0mnew_params\u001B[0m\u001B[0;34m)\u001B[0m\u001B[0;34m\u001B[0m\u001B[0;34m\u001B[0m\u001B[0m\n\u001B[0m\u001B[1;32m    319\u001B[0m     \u001B[0mprimal_out\u001B[0m\u001B[0;34m,\u001B[0m \u001B[0mtangent_out\u001B[0m \u001B[0;34m=\u001B[0m \u001B[0mtree_unflatten\u001B[0m\u001B[0;34m(\u001B[0m\u001B[0mout_tree_def\u001B[0m\u001B[0;34m(\u001B[0m\u001B[0;34m)\u001B[0m\u001B[0;34m,\u001B[0m \u001B[0mresult\u001B[0m\u001B[0;34m)\u001B[0m\u001B[0;34m\u001B[0m\u001B[0;34m\u001B[0m\u001B[0m\n\u001B[1;32m    320\u001B[0m     \u001B[0;32mreturn\u001B[0m \u001B[0;34m[\u001B[0m\u001B[0mJVPTracer\u001B[0m\u001B[0;34m(\u001B[0m\u001B[0mself\u001B[0m\u001B[0;34m,\u001B[0m \u001B[0mp\u001B[0m\u001B[0;34m,\u001B[0m \u001B[0mt\u001B[0m\u001B[0;34m)\u001B[0m \u001B[0;32mfor\u001B[0m \u001B[0mp\u001B[0m\u001B[0;34m,\u001B[0m \u001B[0mt\u001B[0m \u001B[0;32min\u001B[0m \u001B[0mzip\u001B[0m\u001B[0;34m(\u001B[0m\u001B[0mprimal_out\u001B[0m\u001B[0;34m,\u001B[0m \u001B[0mtangent_out\u001B[0m\u001B[0;34m)\u001B[0m\u001B[0;34m]\u001B[0m\u001B[0;34m\u001B[0m\u001B[0;34m\u001B[0m\u001B[0m\n",
      "\u001B[0;32m~/GitHub/JaxDeepSPDE/venv/lib/python3.7/site-packages/jax/core.py\u001B[0m in \u001B[0;36mbind\u001B[0;34m(self, fun, *args, **params)\u001B[0m\n\u001B[1;32m   1273\u001B[0m \u001B[0;34m\u001B[0m\u001B[0m\n\u001B[1;32m   1274\u001B[0m   \u001B[0;32mdef\u001B[0m \u001B[0mbind\u001B[0m\u001B[0;34m(\u001B[0m\u001B[0mself\u001B[0m\u001B[0;34m,\u001B[0m \u001B[0mfun\u001B[0m\u001B[0;34m,\u001B[0m \u001B[0;34m*\u001B[0m\u001B[0margs\u001B[0m\u001B[0;34m,\u001B[0m \u001B[0;34m**\u001B[0m\u001B[0mparams\u001B[0m\u001B[0;34m)\u001B[0m\u001B[0;34m:\u001B[0m\u001B[0;34m\u001B[0m\u001B[0;34m\u001B[0m\u001B[0m\n\u001B[0;32m-> 1275\u001B[0;31m     \u001B[0;32mreturn\u001B[0m \u001B[0mcall_bind\u001B[0m\u001B[0;34m(\u001B[0m\u001B[0mself\u001B[0m\u001B[0;34m,\u001B[0m \u001B[0mfun\u001B[0m\u001B[0;34m,\u001B[0m \u001B[0;34m*\u001B[0m\u001B[0margs\u001B[0m\u001B[0;34m,\u001B[0m \u001B[0;34m**\u001B[0m\u001B[0mparams\u001B[0m\u001B[0;34m)\u001B[0m\u001B[0;34m\u001B[0m\u001B[0;34m\u001B[0m\u001B[0m\n\u001B[0m\u001B[1;32m   1276\u001B[0m \u001B[0;34m\u001B[0m\u001B[0m\n\u001B[1;32m   1277\u001B[0m   \u001B[0;32mdef\u001B[0m \u001B[0mprocess\u001B[0m\u001B[0;34m(\u001B[0m\u001B[0mself\u001B[0m\u001B[0;34m,\u001B[0m \u001B[0mtrace\u001B[0m\u001B[0;34m,\u001B[0m \u001B[0mfun\u001B[0m\u001B[0;34m,\u001B[0m \u001B[0mtracers\u001B[0m\u001B[0;34m,\u001B[0m \u001B[0mparams\u001B[0m\u001B[0;34m)\u001B[0m\u001B[0;34m:\u001B[0m\u001B[0;34m\u001B[0m\u001B[0;34m\u001B[0m\u001B[0m\n",
      "\u001B[0;32m~/GitHub/JaxDeepSPDE/venv/lib/python3.7/site-packages/jax/core.py\u001B[0m in \u001B[0;36mcall_bind\u001B[0;34m(primitive, fun, *args, **params)\u001B[0m\n\u001B[1;32m   1264\u001B[0m   \u001B[0mtracers\u001B[0m \u001B[0;34m=\u001B[0m \u001B[0mmap\u001B[0m\u001B[0;34m(\u001B[0m\u001B[0mtop_trace\u001B[0m\u001B[0;34m.\u001B[0m\u001B[0mfull_raise\u001B[0m\u001B[0;34m,\u001B[0m \u001B[0margs\u001B[0m\u001B[0;34m)\u001B[0m\u001B[0;34m\u001B[0m\u001B[0;34m\u001B[0m\u001B[0m\n\u001B[1;32m   1265\u001B[0m   \u001B[0;32mwith\u001B[0m \u001B[0mmaybe_new_sublevel\u001B[0m\u001B[0;34m(\u001B[0m\u001B[0mtop_trace\u001B[0m\u001B[0;34m)\u001B[0m\u001B[0;34m:\u001B[0m\u001B[0;34m\u001B[0m\u001B[0;34m\u001B[0m\u001B[0m\n\u001B[0;32m-> 1266\u001B[0;31m     \u001B[0mouts\u001B[0m \u001B[0;34m=\u001B[0m \u001B[0mprimitive\u001B[0m\u001B[0;34m.\u001B[0m\u001B[0mprocess\u001B[0m\u001B[0;34m(\u001B[0m\u001B[0mtop_trace\u001B[0m\u001B[0;34m,\u001B[0m \u001B[0mfun\u001B[0m\u001B[0;34m,\u001B[0m \u001B[0mtracers\u001B[0m\u001B[0;34m,\u001B[0m \u001B[0mparams\u001B[0m\u001B[0;34m)\u001B[0m\u001B[0;34m\u001B[0m\u001B[0;34m\u001B[0m\u001B[0m\n\u001B[0m\u001B[1;32m   1267\u001B[0m   \u001B[0;32mreturn\u001B[0m \u001B[0mmap\u001B[0m\u001B[0;34m(\u001B[0m\u001B[0mfull_lower\u001B[0m\u001B[0;34m,\u001B[0m \u001B[0mapply_todos\u001B[0m\u001B[0;34m(\u001B[0m\u001B[0menv_trace_todo\u001B[0m\u001B[0;34m(\u001B[0m\u001B[0;34m)\u001B[0m\u001B[0;34m,\u001B[0m \u001B[0mouts\u001B[0m\u001B[0;34m)\u001B[0m\u001B[0;34m)\u001B[0m\u001B[0;34m\u001B[0m\u001B[0;34m\u001B[0m\u001B[0m\n\u001B[1;32m   1268\u001B[0m \u001B[0;34m\u001B[0m\u001B[0m\n",
      "\u001B[0;32m~/GitHub/JaxDeepSPDE/venv/lib/python3.7/site-packages/jax/core.py\u001B[0m in \u001B[0;36mprocess\u001B[0;34m(self, trace, fun, tracers, params)\u001B[0m\n\u001B[1;32m   1276\u001B[0m \u001B[0;34m\u001B[0m\u001B[0m\n\u001B[1;32m   1277\u001B[0m   \u001B[0;32mdef\u001B[0m \u001B[0mprocess\u001B[0m\u001B[0;34m(\u001B[0m\u001B[0mself\u001B[0m\u001B[0;34m,\u001B[0m \u001B[0mtrace\u001B[0m\u001B[0;34m,\u001B[0m \u001B[0mfun\u001B[0m\u001B[0;34m,\u001B[0m \u001B[0mtracers\u001B[0m\u001B[0;34m,\u001B[0m \u001B[0mparams\u001B[0m\u001B[0;34m)\u001B[0m\u001B[0;34m:\u001B[0m\u001B[0;34m\u001B[0m\u001B[0;34m\u001B[0m\u001B[0m\n\u001B[0;32m-> 1278\u001B[0;31m     \u001B[0;32mreturn\u001B[0m \u001B[0mtrace\u001B[0m\u001B[0;34m.\u001B[0m\u001B[0mprocess_call\u001B[0m\u001B[0;34m(\u001B[0m\u001B[0mself\u001B[0m\u001B[0;34m,\u001B[0m \u001B[0mfun\u001B[0m\u001B[0;34m,\u001B[0m \u001B[0mtracers\u001B[0m\u001B[0;34m,\u001B[0m \u001B[0mparams\u001B[0m\u001B[0;34m)\u001B[0m\u001B[0;34m\u001B[0m\u001B[0;34m\u001B[0m\u001B[0m\n\u001B[0m\u001B[1;32m   1279\u001B[0m \u001B[0;34m\u001B[0m\u001B[0m\n\u001B[1;32m   1280\u001B[0m   \u001B[0;32mdef\u001B[0m \u001B[0mpost_process\u001B[0m\u001B[0;34m(\u001B[0m\u001B[0mself\u001B[0m\u001B[0;34m,\u001B[0m \u001B[0mtrace\u001B[0m\u001B[0;34m,\u001B[0m \u001B[0mout_tracers\u001B[0m\u001B[0;34m,\u001B[0m \u001B[0mparams\u001B[0m\u001B[0;34m)\u001B[0m\u001B[0;34m:\u001B[0m\u001B[0;34m\u001B[0m\u001B[0;34m\u001B[0m\u001B[0m\n",
      "\u001B[0;32m~/GitHub/JaxDeepSPDE/venv/lib/python3.7/site-packages/jax/core.py\u001B[0m in \u001B[0;36mprocess_call\u001B[0;34m(self, primitive, f, tracers, params)\u001B[0m\n\u001B[1;32m    629\u001B[0m \u001B[0;34m\u001B[0m\u001B[0m\n\u001B[1;32m    630\u001B[0m   \u001B[0;32mdef\u001B[0m \u001B[0mprocess_call\u001B[0m\u001B[0;34m(\u001B[0m\u001B[0mself\u001B[0m\u001B[0;34m,\u001B[0m \u001B[0mprimitive\u001B[0m\u001B[0;34m,\u001B[0m \u001B[0mf\u001B[0m\u001B[0;34m,\u001B[0m \u001B[0mtracers\u001B[0m\u001B[0;34m,\u001B[0m \u001B[0mparams\u001B[0m\u001B[0;34m)\u001B[0m\u001B[0;34m:\u001B[0m\u001B[0;34m\u001B[0m\u001B[0;34m\u001B[0m\u001B[0m\n\u001B[0;32m--> 631\u001B[0;31m     \u001B[0;32mreturn\u001B[0m \u001B[0mprimitive\u001B[0m\u001B[0;34m.\u001B[0m\u001B[0mimpl\u001B[0m\u001B[0;34m(\u001B[0m\u001B[0mf\u001B[0m\u001B[0;34m,\u001B[0m \u001B[0;34m*\u001B[0m\u001B[0mtracers\u001B[0m\u001B[0;34m,\u001B[0m \u001B[0;34m**\u001B[0m\u001B[0mparams\u001B[0m\u001B[0;34m)\u001B[0m\u001B[0;34m\u001B[0m\u001B[0;34m\u001B[0m\u001B[0m\n\u001B[0m\u001B[1;32m    632\u001B[0m   \u001B[0mprocess_map\u001B[0m \u001B[0;34m=\u001B[0m \u001B[0mprocess_call\u001B[0m\u001B[0;34m\u001B[0m\u001B[0;34m\u001B[0m\u001B[0m\n\u001B[1;32m    633\u001B[0m \u001B[0;34m\u001B[0m\u001B[0m\n",
      "\u001B[0;32m~/GitHub/JaxDeepSPDE/venv/lib/python3.7/site-packages/jax/interpreters/xla.py\u001B[0m in \u001B[0;36m_xla_call_impl\u001B[0;34m(fun, device, backend, name, donated_invars, *args)\u001B[0m\n\u001B[1;32m    581\u001B[0m                                *unsafe_map(arg_spec, args))\n\u001B[1;32m    582\u001B[0m   \u001B[0;32mtry\u001B[0m\u001B[0;34m:\u001B[0m\u001B[0;34m\u001B[0m\u001B[0;34m\u001B[0m\u001B[0m\n\u001B[0;32m--> 583\u001B[0;31m     \u001B[0;32mreturn\u001B[0m \u001B[0mcompiled_fun\u001B[0m\u001B[0;34m(\u001B[0m\u001B[0;34m*\u001B[0m\u001B[0margs\u001B[0m\u001B[0;34m)\u001B[0m\u001B[0;34m\u001B[0m\u001B[0;34m\u001B[0m\u001B[0m\n\u001B[0m\u001B[1;32m    584\u001B[0m   \u001B[0;32mexcept\u001B[0m \u001B[0mFloatingPointError\u001B[0m\u001B[0;34m:\u001B[0m\u001B[0;34m\u001B[0m\u001B[0;34m\u001B[0m\u001B[0m\n\u001B[1;32m    585\u001B[0m     \u001B[0;32massert\u001B[0m \u001B[0mFLAGS\u001B[0m\u001B[0;34m.\u001B[0m\u001B[0mjax_debug_nans\u001B[0m \u001B[0;32mor\u001B[0m \u001B[0mFLAGS\u001B[0m\u001B[0;34m.\u001B[0m\u001B[0mjax_debug_infs\u001B[0m  \u001B[0;31m# compiled_fun can only raise in this case\u001B[0m\u001B[0;34m\u001B[0m\u001B[0;34m\u001B[0m\u001B[0m\n",
      "\u001B[0;32m~/GitHub/JaxDeepSPDE/venv/lib/python3.7/site-packages/jax/interpreters/xla.py\u001B[0m in \u001B[0;36m_execute_compiled\u001B[0;34m(compiled, avals, handlers, *args)\u001B[0m\n\u001B[1;32m    839\u001B[0m   \u001B[0mdevice\u001B[0m\u001B[0;34m,\u001B[0m \u001B[0;34m=\u001B[0m \u001B[0mcompiled\u001B[0m\u001B[0;34m.\u001B[0m\u001B[0mlocal_devices\u001B[0m\u001B[0;34m(\u001B[0m\u001B[0;34m)\u001B[0m\u001B[0;34m\u001B[0m\u001B[0;34m\u001B[0m\u001B[0m\n\u001B[1;32m    840\u001B[0m   \u001B[0minput_bufs\u001B[0m \u001B[0;34m=\u001B[0m \u001B[0mlist\u001B[0m\u001B[0;34m(\u001B[0m\u001B[0mit\u001B[0m\u001B[0;34m.\u001B[0m\u001B[0mchain\u001B[0m\u001B[0;34m.\u001B[0m\u001B[0mfrom_iterable\u001B[0m\u001B[0;34m(\u001B[0m\u001B[0mdevice_put\u001B[0m\u001B[0;34m(\u001B[0m\u001B[0mx\u001B[0m\u001B[0;34m,\u001B[0m \u001B[0mdevice\u001B[0m\u001B[0;34m)\u001B[0m \u001B[0;32mfor\u001B[0m \u001B[0mx\u001B[0m \u001B[0;32min\u001B[0m \u001B[0margs\u001B[0m \u001B[0;32mif\u001B[0m \u001B[0mx\u001B[0m \u001B[0;32mis\u001B[0m \u001B[0;32mnot\u001B[0m \u001B[0mtoken\u001B[0m\u001B[0;34m)\u001B[0m\u001B[0;34m)\u001B[0m\u001B[0;34m\u001B[0m\u001B[0;34m\u001B[0m\u001B[0m\n\u001B[0;32m--> 841\u001B[0;31m   \u001B[0mout_bufs\u001B[0m \u001B[0;34m=\u001B[0m \u001B[0mcompiled\u001B[0m\u001B[0;34m.\u001B[0m\u001B[0mexecute\u001B[0m\u001B[0;34m(\u001B[0m\u001B[0minput_bufs\u001B[0m\u001B[0;34m)\u001B[0m\u001B[0;34m\u001B[0m\u001B[0;34m\u001B[0m\u001B[0m\n\u001B[0m\u001B[1;32m    842\u001B[0m   \u001B[0mcheck_special\u001B[0m\u001B[0;34m(\u001B[0m\u001B[0mxla_call_p\u001B[0m\u001B[0;34m,\u001B[0m \u001B[0mout_bufs\u001B[0m\u001B[0;34m)\u001B[0m\u001B[0;34m\u001B[0m\u001B[0;34m\u001B[0m\u001B[0m\n\u001B[1;32m    843\u001B[0m   \u001B[0;32mreturn\u001B[0m \u001B[0;34m[\u001B[0m\u001B[0mhandler\u001B[0m\u001B[0;34m(\u001B[0m\u001B[0;34m*\u001B[0m\u001B[0mbs\u001B[0m\u001B[0;34m)\u001B[0m \u001B[0;32mfor\u001B[0m \u001B[0mhandler\u001B[0m\u001B[0;34m,\u001B[0m \u001B[0mbs\u001B[0m \u001B[0;32min\u001B[0m \u001B[0mzip\u001B[0m\u001B[0;34m(\u001B[0m\u001B[0mhandlers\u001B[0m\u001B[0;34m,\u001B[0m \u001B[0m_partition_outputs\u001B[0m\u001B[0;34m(\u001B[0m\u001B[0mavals\u001B[0m\u001B[0;34m,\u001B[0m \u001B[0mout_bufs\u001B[0m\u001B[0;34m)\u001B[0m\u001B[0;34m)\u001B[0m\u001B[0;34m]\u001B[0m\u001B[0;34m\u001B[0m\u001B[0;34m\u001B[0m\u001B[0m\n",
      "\u001B[0;31mKeyboardInterrupt\u001B[0m: "
     ]
    }
   ],
   "source": [
    "y = normalized_meas_samples\n",
    "if optimizer in [OptimizerType.HESSIAN_FREE, OptimizerType.ADA_HESSIAN]:\n",
    "    def re_wrapped_loss(state_real, whalfs_shape=(2, n_prior_layers, f.basis_number),\n",
    "                        num_sigmas=n_sigmas):\n",
    "        sigmas_in = np.ones(num_sigmas)\n",
    "        w_real = state_real\n",
    "        return wrapped_loss(w_real, whalfs_shape, sigmas_in, y)\n",
    "\n",
    "    def re_wrapped_output_fun(state_real, whalfs_shape=(2, n_prior_layers, f.basis_number),\n",
    "                              num_sigmas=n_sigmas):\n",
    "        sigmas_in = np.ones(num_sigmas)\n",
    "        w_real = state_real\n",
    "        return wrapped_output_fun(sigmas_in, w_real, whalfs_shape, y)\n",
    "    \n",
    "    def re_wrapped_loss_b(state_real, whalfs_shape=(2, n_prior_layers, f.basis_number),\n",
    "                        num_sigmas=n_sigmas):\n",
    "        sigmas_in = state_real[:num_sigmas]\n",
    "        w_real = state_real[num_sigmas:]\n",
    "    \n",
    "        return wrapped_loss(w_real, whalfs_shape, sigmas_in, y)\n",
    "\n",
    "    def re_wrapped_output_fun_b(state_real, whalfs_shape=(2, n_prior_layers, f.basis_number),\n",
    "                              num_sigmas=n_sigmas):\n",
    "        sigmas_in = state_real[:n_sigmas]\n",
    "        w_real = state_real[n_sigmas:]\n",
    "        return wrapped_output_fun(sigmas_in, w_real, whalfs_shape, y)\n",
    "\n",
    "    if use_gnm:\n",
    "        if learn_sigmas:\n",
    "            fun = re_wrapped_output_fun_b\n",
    "        else:\n",
    "            fun = re_wrapped_output_fun\n",
    "    else:\n",
    "        if learn_sigmas:\n",
    "            fun = re_wrapped_loss_b\n",
    "        else:\n",
    "            fun = re_wrapped_loss\n",
    "\n",
    "    if optimizer == OptimizerType.HESSIAN_FREE:\n",
    "        state_hist, nu_hist, value_hist = hessian_free(fun, state_init, n_steps=n_steps,\n",
    "                                                       use_gnm=use_gnm,\n",
    "                                                       cg_max_iter=cg_max_iter,\n",
    "                                                       learning_rate=step_scale)\n",
    "        if learn_sigmas:\n",
    "            sigmas = state_hist[-1, :n_sigmas]\n",
    "            w_halfs_real = state_hist[-1, n_sigmas:]\n",
    "        else:\n",
    "            w_halfs_real = state_hist[-1, :]\n",
    "            \n",
    "        end_state_list.append(state_hist[-1, :])\n",
    "\n",
    "    # ADA_HESSIAN\n",
    "    else:\n",
    "        def optimizer_step(step, opt_state, rng):\n",
    "            if learn_sigmas:\n",
    "                fun = re_wrapped_loss_b\n",
    "            else:\n",
    "                fun = re_wrapped_loss\n",
    "                \n",
    "            val, gradient, hessian = value_grad_and_hessian(fun, (opt.params_fn(opt_state),), rng,\n",
    "                                                            argnum=0)\n",
    "            if np.isnan(val):\n",
    "                raise StopIteration\n",
    "            if np.any(np.isnan(gradient)) or np.any(np.isnan(hessian)):\n",
    "                raise StopIteration\n",
    "            opt_state = opt.update_fn(step, gradient, hessian, opt_state)\n",
    "            return val, opt_state\n",
    "\n",
    "        value_hist = []\n",
    "        opt_state = opt.init_fn(state_init)\n",
    "\n",
    "        try:\n",
    "            with trange(n_steps) as tr:\n",
    "                for step in tr:\n",
    "                    rng, rng_param = jax.random.split(rng)\n",
    "                    val, opt_state = optimizer_step(step, opt_state, rng_param)\n",
    "                    value_hist.append(val)\n",
    "                    tr.set_description('Current loss value = {:.4f}'.format(val))\n",
    "\n",
    "        except StopIteration:\n",
    "            print('Nan value found in the gradient. Stopping the optimization loop')\n",
    "        finally:\n",
    "            end_state = opt.params_fn(opt_state)\n",
    "            if learn_sigmas:\n",
    "                sigmas = end_state[:n_sigmas]\n",
    "                w_halfs_real = end_state[n_sigmas:]\n",
    "            else:\n",
    "                w_halfs_real = end_state\n",
    "            end_state_list.append(end_state)\n",
    "\n",
    "        if not value_hist:\n",
    "            value_hist = np.array([np.inf])\n",
    "        else:\n",
    "            value_hist = np.stack(value_hist)\n",
    "\n",
    "    w_halfs = from_two_reals_ravelled_to_complex(w_halfs_real, (2, n_prior_layers, f.basis_number))\n",
    "\n",
    "elif optimizer in [OptimizerType.ADAM, OptimizerType.RMSPROP, OptimizerType.RMSPROP_MOMENTUM]:\n",
    "    def re_wrapped_loss(w_halfs_in):\n",
    "        val = loss(w_halfs_in, sigmas, y, h_conj_t, identity_m, l_matrix)\n",
    "        return val\n",
    "    \n",
    "    def re_wrapped_loss_b(w_halfs_in, sigmas_in):\n",
    "        val = loss(w_halfs_in, sigmas_in, y, h_conj_t, identity_m, l_matrix)\n",
    "        return val\n",
    "\n",
    "    if learn_sigmas:\n",
    "        state_init = (picked_whalfs.copy(),sigmas.copy())\n",
    "        opt_state = opt.init_fn(state_init)\n",
    "        (w_halfs,sigmas) = opt.params_fn(opt_state)\n",
    "        fun = re_wrapped_loss_b\n",
    "        loss_grad_and_val = jit(value_and_grad(fun, argnums=(0,1)))\n",
    "    else:\n",
    "        state_init = (picked_whalfs.copy(),)\n",
    "        opt_state = opt.init_fn(state_init)\n",
    "        (w_halfs, ) = opt.params_fn(opt_state)\n",
    "        fun = re_wrapped_loss\n",
    "        loss_grad_and_val = jit(value_and_grad(fun, argnums=(0,)))\n",
    "\n",
    "    def optimizer_step(step, state):\n",
    "        val, grads = loss_grad_and_val(*opt.params_fn(state))\n",
    "        if np.isnan(val):\n",
    "            raise StopIteration\n",
    "        if np.any(np.isnan(grads[0])):\n",
    "            raise StopIteration\n",
    "        state = opt.update_fn(step, grads, state)\n",
    "        return val, state\n",
    "\n",
    "    value_hist = []\n",
    "    try:\n",
    "        with trange(n_steps) as tr:\n",
    "            for step in tr:\n",
    "                val, opt_state = optimizer_step(step, opt_state)\n",
    "                value_hist.append(val)\n",
    "                tr.set_description('Current loss value = {:.4f}'.format(val))\n",
    "    except StopIteration:\n",
    "        print('Nan value found in the gradient. Stopping the optimization loop')\n",
    "    finally:\n",
    "        if learn_sigmas:\n",
    "            (w_halfs,sigmas) = opt.params_fn(opt_state)\n",
    "        else:\n",
    "            (w_halfs,) = opt.params_fn(opt_state)\n",
    "        end_state_list.append(w_halfs)\n",
    "\n",
    "\n",
    "    if not value_hist:\n",
    "        value_hist = np.array([np.inf])\n",
    "    else:\n",
    "        value_hist = np.stack(value_hist)"
   ]
  },
  {
   "cell_type": "code",
   "execution_count": 26,
   "metadata": {},
   "outputs": [],
   "source": [
    "end_state = opt.params_fn(opt_state)\n",
    "if optimizer in [OptimizerType.ADA_HESSIAN, OptimizerType.HESSIAN_FREE]:\n",
    "    if learn_sigmas:\n",
    "        sigmas = end_state[:n_sigmas]\n",
    "        w_halfs_real = end_state[n_sigmas:]\n",
    "    else:\n",
    "        w_halfs_real = end_state\n",
    "    w_halfs = from_two_reals_ravelled_to_complex(w_halfs_real,(2,n_prior_layers,f.basis_number))\n",
    "else:\n",
    "    if learn_sigmas:\n",
    "        (w_halfs,sigmas) = opt.params_fn(opt_state)\n",
    "    else:\n",
    "        (w_halfs,) = opt.params_fn(opt_state)\n",
    "v_mean, v_std = non_analytical_mean_and_std(w_halfs,sigmas,h_matrix,y,1,l_matrix,f,rg)\n",
    "plt.figure(figsize=fig_size)\n",
    "plt.imshow(v_mean,cmap=plt.cm.seismic_r, origin='upper')"
   ]
  },
  {
   "cell_type": "code",
   "execution_count": 25,
   "metadata": {},
   "outputs": [
    {
     "data": {
      "text/plain": [
       "<matplotlib.image.AxesImage at 0x7f137bf4ad50>"
      ]
     },
     "execution_count": 25,
     "metadata": {},
     "output_type": "execute_result"
    },
    {
     "data": {
      "image/png": "[encoded data removed]",
      "text/plain": [
       "<Figure size 1080x720 with 1 Axes>"
      ]
     },
     "metadata": {},
     "output_type": "display_data"
    }
   ],
   "source": [
    "u_min_1 = symmetrize(l_matrix.u_half_min_1,False).reshape(f.symmetric_shape,order=sino.ravel_order)\n",
    "kappa = l_matrix.kappa_fun(f.irfft(u_min_1[:, f.essential_basis_number - 1:]))\n",
    "plt.figure(figsize=fig_size)\n",
    "plt.imshow(1/kappa,cmap=plt.cm.seismic_r, origin='upper')"
   ]
  },
  {
   "cell_type": "code",
   "execution_count": null,
   "metadata": {},
   "outputs": [],
   "source": []
  }
 ],
 "metadata": {
  "kernelspec": {
   "display_name": "Python 3",
   "language": "python",
   "name": "python3"
  },
  "language_info": {
   "codemirror_mode": {
    "name": "ipython",
    "version": 3
   },
   "file_extension": ".py",
   "mimetype": "text/x-python",
   "name": "python",
   "nbconvert_exporter": "python",
   "pygments_lexer": "ipython3",
   "version": "3.7.7"
  }
 },
 "nbformat": 4,
 "nbformat_minor": 4
}
